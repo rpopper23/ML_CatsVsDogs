{
  "cells": [
    {
      "cell_type": "code",
      "execution_count": 1,
      "metadata": {
        "id": "KYR6wx4CQVvI"
      },
      "outputs": [],
      "source": [
        "import sys\n",
        "import os\n",
        "import shutil\n",
        "import itertools\n",
        "from tqdm import tqdm\n",
        "import pandas as pd\n",
        "import numpy as np\n",
        "import cv2\n",
        "from PIL import Image\n",
        "from matplotlib import pyplot as plt\n",
        "from sklearn.model_selection import train_test_split\n",
        "from keras.models import Model, Sequential, load_model\n",
        "#from keras.layers import Conv2D,MaxPooling2D,\\\n",
        "#     Dropout,Flatten,Dense,Activation,\\\n",
        "#     BatchNormalization\n",
        "from keras.layers import *\n",
        "from keras.preprocessing.image import ImageDataGenerator\n",
        "from tensorflow.keras.utils import load_img\n",
        "from keras.callbacks import EarlyStopping, ReduceLROnPlateau, ModelCheckpoint\n",
        "from google.colab import files\n",
        "from google.colab import drive"
      ]
    },
    {
      "cell_type": "code",
      "execution_count": 2,
      "metadata": {
        "colab": {
          "base_uri": "https://localhost:8080/"
        },
        "id": "z3SbWNYM5c_U",
        "outputId": "7c12b56d-8cc6-44ba-cfdc-abee20c510de"
      },
      "outputs": [
        {
          "output_type": "stream",
          "name": "stdout",
          "text": [
            "Mounted at /content/drive\n"
          ]
        }
      ],
      "source": [
        "drive.mount('/content/drive')\n",
        "#load image data on collab\n",
        "!mkdir -p ML_Project/dataset\n",
        "!unzip -uq \"/content/drive/MyDrive/ML_Project/CatsDogs.zip\" -d \"/content/ML_Project/dataset\""
      ]
    },
    {
      "cell_type": "markdown",
      "metadata": {
        "id": "e4UuhuozZWrF"
      },
      "source": [
        "\n",
        "##**Preprocessing**"
      ]
    },
    {
      "cell_type": "code",
      "execution_count": 3,
      "metadata": {
        "id": "_PyB3EQscwJT"
      },
      "outputs": [],
      "source": [
        "#Params\n",
        "#Paths\n",
        "project_dir = \"/content/ML_Project\"\n",
        "data_dir = project_dir + \"/dataset/CatsDogs\"\n",
        "cats_dir = data_dir + '/Cats'\n",
        "dogs_dir = data_dir + '/Dogs'\n",
        "model_dir = '/content/drive/MyDrive/ML_Project/model/'\n",
        "plots_dir = '/content/drive/MyDrive/ML_Project/plots/'\n",
        "#Image params\n",
        "Image_Width=128\n",
        "Image_Height=128\n",
        "Image_Channels=3\n",
        "IMAGE_SHAPE = (Image_Width, Image_Height, Image_Channels)\n",
        "IMAGE_SIZE = (Image_Width, Image_Height)"
      ]
    },
    {
      "cell_type": "code",
      "execution_count": 4,
      "metadata": {
        "id": "d4v0l1j84e4u"
      },
      "outputs": [],
      "source": [
        "#check for corrupt exif data \n",
        "def remove_exif(data_dir):\n",
        "  num = 0\n",
        "  failed = 0\n",
        "  for image_name in os.listdir(data_dir):\n",
        "    path = os.path.join(data_dir, image_name)\n",
        "    image = Image.open(path)\n",
        "    try:\n",
        "      if not image.getexif():\n",
        "        num+=1\n",
        "      data = list(image.getdata())\n",
        "      image_without_exif = Image.new(image.mode, image.size)\n",
        "      image_without_exif.putdata(data)\n",
        "      image_without_exif.save(path)\n",
        "    except:\n",
        "      failed+=1\n",
        "    return(print(f'Corrupt exif data where removed from {num} files. The process failed for {failed} files'))\n",
        "    \n",
        "\n",
        "#def downscale(Image_Size, img_path):\n",
        "#  #resize images\n",
        "#  for im in img_path:\n",
        "#    img_path = os.path.join(img_path, img)\n",
        "#    img = cv2.imread(img_path)\n",
        "#    img = cv2.resize(img, Image_Size, interpolation = cv2.INTER_AREA)\n",
        "#    return img\n"
      ]
    },
    {
      "cell_type": "code",
      "execution_count": 5,
      "metadata": {
        "id": "TfhjMNI66f5D"
      },
      "outputs": [],
      "source": [
        "#add class to image names to create unique image ids in each folder\n",
        "cats_filenames = ['0' + filename for filename in os.listdir(cats_dir)]\n",
        "dogs_filenames = ['1' + filename for filename in os.listdir(dogs_dir)]\n",
        "#rename and move images in same folder\n",
        "for cat, dog in zip(cats_filenames, dogs_filenames):\n",
        "  cat_src = cats_dir + '/' + cat[1:]\n",
        "  dog_src = dogs_dir + '/' + dog[1:]\n",
        "  cat_dst = data_dir + '/' + cat\n",
        "  dog_dst = data_dir + '/' + dog\n",
        "  shutil.move(cat_src, cat_dst)\n",
        "  shutil.move(dog_src, dog_dst)\n",
        "#now that dogs and cats have filename including class_id, we can remove original directories\n",
        "os.rmdir(cats_dir)\n",
        "os.rmdir(dogs_dir)"
      ]
    },
    {
      "cell_type": "code",
      "execution_count": 6,
      "metadata": {
        "colab": {
          "base_uri": "https://localhost:8080/"
        },
        "id": "EqquymZhHhYD",
        "outputId": "7f8661ec-3fb4-495b-a561-337a784adcba"
      },
      "outputs": [
        {
          "output_type": "stream",
          "name": "stdout",
          "text": [
            "A total of 2 corrupted files were spotted and removed\n"
          ]
        }
      ],
      "source": [
        "#remove corrupted files\n",
        "import warnings\n",
        "warnings.filterwarnings(\"ignore\")\n",
        "faulty_img = []\n",
        "for img in os.listdir(data_dir):\n",
        "  img_path = os.path.join(data_dir, img)\n",
        "  try:\n",
        "    img = Image.open(img_path)\n",
        "  except:\n",
        "    faulty_img.append(img_path)\n",
        "    os.remove(img_path)\n",
        "print(f'A total of {len(faulty_img)} corrupted files were spotted and removed')"
      ]
    },
    {
      "cell_type": "code",
      "source": [
        "#check for corrput exif data\n",
        "remove_exif(data_dir)"
      ],
      "metadata": {
        "colab": {
          "base_uri": "https://localhost:8080/"
        },
        "id": "dgQwLA4avpiQ",
        "outputId": "ca802346-cdd1-4b99-8845-8e7f34076b0f"
      },
      "execution_count": 7,
      "outputs": [
        {
          "output_type": "stream",
          "name": "stdout",
          "text": [
            "Corrupt exif data where removed from 1 files. The process failed for 0 files\n"
          ]
        }
      ]
    },
    {
      "cell_type": "code",
      "source": [
        "#remove corrupt images\n",
        "skipped_files = []\n",
        "for filename in os.listdir(data_dir):\n",
        "  file_path = os.path.join(data_dir, filename)\n",
        "  try:\n",
        "    fobj = open(file_path, \"rb\")\n",
        "    is_jfif = tf.compat.as_bytes(\"JFIF\") in fobj.peek(10)\n",
        "  finally:\n",
        "    fobj.close()\n",
        "  if not is_jfif:\n",
        "    skipped_files.append(file_path)\n",
        "    # Delete corrupted image\n",
        "    os.remove(file_path)\n",
        "\n",
        "print(f\"Deleted {len(skipped_files)} images\")"
      ],
      "metadata": {
        "colab": {
          "base_uri": "https://localhost:8080/"
        },
        "id": "ZnXwWgqYt2sZ",
        "outputId": "3642dc0e-a9cc-466a-98e3-089850e70caa"
      },
      "execution_count": 8,
      "outputs": [
        {
          "output_type": "stream",
          "name": "stdout",
          "text": [
            "Deleted 1588 images\n"
          ]
        }
      ]
    },
    {
      "cell_type": "code",
      "execution_count": 9,
      "metadata": {
        "id": "4_FjtgAuZ-0W"
      },
      "outputs": [],
      "source": [
        "#explore images\n",
        "file_size = []\n",
        "file_dim = []\n",
        "#img that throw error when opened in cv2 but work when fed to the data generator\n",
        "skipped_files = []\n",
        "#poor quality images\n",
        "low_res_img = []\n",
        "for img in os.listdir(data_dir):\n",
        "  #read image\n",
        "  img_path = os.path.join(data_dir, img)\n",
        "  im = cv2.imread(img_path)\n",
        "  try:\n",
        "    #divide along the three dimensions of the ndarray to get pixel count\n",
        "    size = im.size/3\n",
        "    #shape = (num_height_pxl, num_width_pxl)\n",
        "    shape = im.shape[:2]\n",
        "    #store information\n",
        "    if size<=50000:\n",
        "      low_res_img.append(img_path)\n",
        "    file_size.append(size)\n",
        "    file_dim.append(shape)\n",
        "  except:\n",
        "    skipped_files.append(img)"
      ]
    },
    {
      "cell_type": "code",
      "execution_count": 10,
      "metadata": {
        "colab": {
          "base_uri": "https://localhost:8080/",
          "height": 295
        },
        "id": "38O0YXefpdXq",
        "outputId": "ca69352f-79ce-40a4-a356-b118f66ba765"
      },
      "outputs": [
        {
          "output_type": "display_data",
          "data": {
            "text/plain": [
              "<Figure size 432x288 with 1 Axes>"
            ],
            "image/png": "[encoded data removed]"
          },
          "metadata": {
            "needs_background": "light"
          }
        }
      ],
      "source": [
        "#plot num_pixels distribution of image datasets\n",
        "pxl_count = [el for el in file_size]\n",
        "#define range of pixels\n",
        "minimum = min(pxl_count)\n",
        "maximum = max(pxl_count)\n",
        "range = maximum-minimum\n",
        "frequency = 5000\n",
        "#histogram\n",
        "_,_,bins = plt.hist(pxl_count, color = 'grey', edgecolor = 'black',\n",
        "                    bins = int(range/frequency))\n",
        "for bin in bins:\n",
        "  if bin.get_x() <= int(Image_Height*Image_Width//frequency*frequency):\n",
        "    bin.set_facecolor('red')\n",
        "# Add labels\n",
        "plt.title('Histogram Pixel Counts')\n",
        "plt.xlabel('Number of Pixels')\n",
        "plt.ylabel('Number of Images')\n",
        "plt.axvline(x=Image_Height*Image_Width, linestyle='--',linewidth=1, color='grey')\n",
        "plt.show()"
      ]
    },
    {
      "cell_type": "code",
      "execution_count": 11,
      "metadata": {
        "id": "0SA9973MhW4s"
      },
      "outputs": [],
      "source": [
        "#visualize poor quality images\n",
        "bad_im_size = []\n",
        "bad_im_dim = [] \n",
        "for path in low_res_img:\n",
        "  im = cv2.imread(path)\n",
        "  size = im.size/3\n",
        "  shape = im.shape[:2]\n",
        "  bad_im_size.append(size)\n",
        "  bad_im_dim.append(shape)\n",
        "max_size = file_size.index(max(file_size))\n",
        "min_size = file_size.index(min(file_size))\n",
        "max_shape = file_dim[max_size]\n",
        "min_shape = file_dim[min_size]"
      ]
    },
    {
      "cell_type": "code",
      "execution_count": 12,
      "metadata": {
        "colab": {
          "base_uri": "https://localhost:8080/",
          "height": 286
        },
        "id": "sQ71QYS8gzLQ",
        "outputId": "999bc8bb-0958-428f-9a51-b4df4e8f9aa4"
      },
      "outputs": [
        {
          "output_type": "execute_result",
          "data": {
            "text/plain": [
              "<matplotlib.image.AxesImage at 0x7fcea82779d0>"
            ]
          },
          "metadata": {},
          "execution_count": 12
        },
        {
          "output_type": "display_data",
          "data": {
            "text/plain": [
              "<Figure size 432x288 with 1 Axes>"
            ],
            "image/png": "[encoded data removed]"
          },
          "metadata": {
            "needs_background": "light"
          }
        }
      ],
      "source": [
        "worst_img_path = low_res_img[bad_im_dim.index(min_shape)]\n",
        "worst_img = cv2.imread(worst_img_path)\n",
        "plt.imshow(worst_img)"
      ]
    },
    {
      "cell_type": "code",
      "execution_count": 13,
      "metadata": {
        "id": "XvuygjE3fodT"
      },
      "outputs": [],
      "source": [
        "#remove worst image and corrupt data\n",
        "os.remove(worst_img_path)"
      ]
    },
    {
      "cell_type": "code",
      "execution_count": 14,
      "metadata": {
        "id": "S5JKAAk_AJB3"
      },
      "outputs": [],
      "source": [
        "#associate class id and category to images \n",
        "all_filenames = os.listdir(data_dir)\n",
        "category = []\n",
        "class_id = []\n",
        "for el in all_filenames:\n",
        "    if el[0]=='1':\n",
        "        category.append('dog')\n",
        "        class_id.append('1')\n",
        "    elif el[0]=='0':\n",
        "        category.append('cat')\n",
        "        class_id.append('0')\n",
        "    else:\n",
        "        print(f'Anomalous filename in iteration {all_filenames.index(el)}')  \n",
        "\n",
        "#create df\n",
        "df = pd.DataFrame({\n",
        "    'filename': all_filenames,\n",
        "    'category': category,\n",
        "    'class_id': class_id\n",
        "})"
      ]
    },
    {
      "cell_type": "code",
      "execution_count": 15,
      "metadata": {
        "id": "3DWiAdkd8yfb"
      },
      "outputs": [],
      "source": [
        "'''\n",
        "# create train and test split keeping ballanced classes\n",
        "X = df['filename']\n",
        "y = df['class_id']\n",
        "X_train, X_test, y_train, y_test = train_test_split(X, y, test_size=0.10, random_state=42, stratify=y)\n",
        "# get validation set from train set\n",
        "X_train, X_val, y_train, y_val = train_test_split(X_train, y_train, test_size=0.20, random_state=42, stratify=y_train)\n",
        "'''\n",
        "# create train and test split keeping ballanced classes\n",
        "train_df, test_df = train_test_split(df[['filename', 'class_id']], test_size=0.10, random_state=42, stratify= df['class_id'])\n",
        "# get validation set from train set\n",
        "train_df, val_df = train_test_split(train_df, test_size=0.20, random_state=42, stratify=train_df['class_id'])\n",
        "train_df = train_df.reset_index(drop=True)\n",
        "val_df = val_df.reset_index(drop=True)\n",
        "test_df = test_df.reset_index(drop=True)"
      ]
    },
    {
      "cell_type": "code",
      "execution_count": 16,
      "metadata": {
        "id": "RhSY6Di_7QcC"
      },
      "outputs": [],
      "source": [
        "#move images to split set\n",
        "train_path = data_dir + '/train/'\n",
        "val_path = data_dir + '/val/'\n",
        "test_path = data_dir + '/test/'\n",
        "os.makedirs(train_path, exist_ok=True)\n",
        "os.makedirs(val_path, exist_ok=True)\n",
        "os.makedirs(test_path, exist_ok=True)\n",
        "train = [shutil.move(data_dir + '/' + el, train_path + el) for el in list(train_df['filename'])]\n",
        "val = [shutil.move(data_dir + '/' + el, val_path + el) for el in list(val_df['filename'])]\n",
        "test = [shutil.move(data_dir + '/' + el, test_path + el) for el in list(test_df['filename'])]"
      ]
    },
    {
      "cell_type": "code",
      "execution_count": 17,
      "metadata": {
        "id": "MXqQfbhnJzET"
      },
      "outputs": [],
      "source": [
        "#add image absolute paths to filenames\n",
        "train_df['filename'] = train_path + train_df['filename'].astype(str)\n",
        "val_df['filename'] = val_path + val_df['filename'].astype(str)\n",
        "test_df['filename'] = test_path + test_df['filename'].astype(str)"
      ]
    },
    {
      "cell_type": "code",
      "execution_count": 18,
      "metadata": {
        "colab": {
          "base_uri": "https://localhost:8080/",
          "height": 53
        },
        "id": "ROa-GX_mF6Jq",
        "outputId": "697c8ac1-9330-4f74-d366-ae4f47759528"
      },
      "outputs": [
        {
          "output_type": "execute_result",
          "data": {
            "text/plain": [
              "\"\\n#get class proportion in each set\\ntrain_cats_count = (y_train == '0').sum().sum()\\ntrain_dogs_count = (y_train == '1').sum().sum()\\nval_cats_count = (y_val == '0').sum().sum()\\nval_dogs_count = (y_val == '1').sum().sum()\\ntest_cats_count = (y_test == '0').sum().sum()\\ntest_dogs_count = (y_test == '1').sum().sum()\\n\""
            ],
            "application/vnd.google.colaboratory.intrinsic+json": {
              "type": "string"
            }
          },
          "metadata": {},
          "execution_count": 18
        }
      ],
      "source": [
        "'''\n",
        "#get class proportion in each set\n",
        "train_cats_count = (y_train == '0').sum().sum()\n",
        "train_dogs_count = (y_train == '1').sum().sum()\n",
        "val_cats_count = (y_val == '0').sum().sum()\n",
        "val_dogs_count = (y_val == '1').sum().sum()\n",
        "test_cats_count = (y_test == '0').sum().sum()\n",
        "test_dogs_count = (y_test == '1').sum().sum()\n",
        "'''"
      ]
    },
    {
      "cell_type": "code",
      "execution_count": 19,
      "metadata": {
        "colab": {
          "base_uri": "https://localhost:8080/",
          "height": 297
        },
        "id": "jaGomIgNjSuu",
        "outputId": "ef7df7ad-4047-4095-cc99-1b991ec25370"
      },
      "outputs": [
        {
          "output_type": "display_data",
          "data": {
            "text/plain": [
              "<Figure size 432x288 with 1 Axes>"
            ],
            "image/png": "[encoded data removed]"
          },
          "metadata": {
            "needs_background": "light"
          }
        }
      ],
      "source": [
        "#get class proportion in each set\n",
        "train_cats_count = len([el for el in os.listdir(train_path) if el[0]=='0'])\n",
        "train_dogs_count = len([el for el in os.listdir(train_path) if el[0]=='1'])\n",
        "val_cats_count = len([el for el in os.listdir(val_path) if el[0]=='0'])\n",
        "val_dogs_count = len([el for el in os.listdir(val_path) if el[0]=='1'])\n",
        "test_cats_count = len([el for el in os.listdir(test_path) if el[0]=='0'])\n",
        "test_dogs_count = len([el for el in os.listdir(test_path) if el[0]=='1'])\n",
        "\n",
        "#plot\n",
        "labels = ['Train_Set', 'Val_Set', 'Test_Set']\n",
        "cats = [train_cats_count, val_cats_count, test_cats_count]\n",
        "dogs = [train_dogs_count, val_dogs_count, test_dogs_count]\n",
        "\n",
        "label = np.array(labels)\n",
        "x = np.arange(len(labels))  # the label locations\n",
        "width = 0.35  # the width of the bars\n",
        "\n",
        "fig, ax = plt.subplots()\n",
        "rects1 = ax.bar(x - width/2, cats, width, label='Cats')\n",
        "rects2 = ax.bar(x + width/2, dogs, width, label='Dogs')\n",
        "\n",
        "# Add text\n",
        "def autolabel(rects):\n",
        "    \"\"\"Attach a text label above each bar in *rects*, displaying its height.\"\"\"\n",
        "    for rect in rects:\n",
        "        height = rect.get_height()\n",
        "        ax.annotate('{}'.format(height),\n",
        "                    xy=(rect.get_x() + rect.get_width() / 2, height),\n",
        "                    xytext=(0, 3),  # 3 points vertical offset\n",
        "                    textcoords=\"offset points\",\n",
        "                    ha='center', va='bottom')\n",
        "autolabel(rects1)\n",
        "autolabel(rects2)\n",
        "ax.set_ylabel('Count')\n",
        "ax.set_title('Cats And Dogs Class Proportion')\n",
        "ax.set_xticks(x)\n",
        "ax.set_xticklabels(labels)\n",
        "ax.legend()\n",
        "fig.tight_layout()\n",
        "plt.show()"
      ]
    },
    {
      "cell_type": "markdown",
      "metadata": {
        "id": "327QiNdMcUKC"
      },
      "source": [
        "##**Model**\n"
      ]
    },
    {
      "cell_type": "markdown",
      "metadata": {
        "id": "OKokrDGCaxg0"
      },
      "source": [
        "###Primary Functions"
      ]
    },
    {
      "cell_type": "code",
      "execution_count": 20,
      "metadata": {
        "id": "ewKNTHQ0bt8w"
      },
      "outputs": [],
      "source": [
        "#model builder\n",
        "def CnnModel(architecture):\n",
        "  '''\n",
        "  Input: Model architecture with the following specifications:\n",
        "          - input_shape (tuple of the form (w, h, channels))\n",
        "          - out_channel (integer)\n",
        "            n.b. these are used in the first CN block and are doubled for each subsequent block\n",
        "          - conv_layers (integer number of convolutional layers)\n",
        "          - fc_layers (integer number of dense layer)\n",
        "          - dropout (either True or False)\n",
        "\n",
        "  '''\n",
        "  #model parameters\n",
        "  input_shape, out_channels, conv_layers, fc_layers, dropout = architecture\n",
        "\n",
        "  #build model\n",
        "  cnn_model = Sequential([Conv2D(out_channels, 3, activation='relu', input_shape=input_shape),\n",
        "                          BatchNormalization(),\n",
        "                          MaxPooling2D(pool_size=(2,2))\n",
        "                          ])\n",
        "  if dropout:\n",
        "    cnn_model.add(Dropout(0.25))\n",
        "\n",
        "  if conv_layers > 1:\n",
        "    CL = 1\n",
        "    nth_out_channels = out_channels\n",
        "    while CL <= conv_layers-1:\n",
        "      nth_out_channels = nth_out_channels *2\n",
        "      conv_block = Sequential([Conv2D(nth_out_channels, 3,activation='relu'),\n",
        "                               BatchNormalization(),\n",
        "                               MaxPooling2D(pool_size=(2,2))\n",
        "                              ])\n",
        "      if dropout:\n",
        "        conv_block.add(Dropout(0.25))\n",
        "      for layer in conv_block.layers:\n",
        "        cnn_model.add(layer)\n",
        "      CL+=1\n",
        "    \n",
        "  if fc_layers ==1:\n",
        "    out_block = Sequential([GlobalAveragePooling2D(),\n",
        "                            Dense(2, activation='softmax')\n",
        "                            ])\n",
        "  else:\n",
        "    out_block = Sequential([Flatten()])\n",
        "    num_fc = fc_layers-1\n",
        "    output_dim = 512\n",
        "    while num_fc > 1: \n",
        "      output_dim = output_dim*2\n",
        "      num_fc-=1\n",
        "    FC = 1\n",
        "    while FC <= fc_layers-1:  \n",
        "      out_block.add(Dense(output_dim,activation='relu'))\n",
        "      out_block.add(BatchNormalization())\n",
        "      if dropout:\n",
        "        out_block.add(Dropout(0.5))\n",
        "      output_dim = int(output_dim/2)\n",
        "      FC+=1\n",
        "    out_block.add(Dense(2,activation='softmax'))\n",
        "  \n",
        "  for layer in out_block.layers:\n",
        "    cnn_model.add(layer)      \n",
        "                        \n",
        "  return cnn_model"
      ]
    },
    {
      "cell_type": "code",
      "source": [
        "CnnModel(((128, 128, 3), 32, 3, 3, True)).summary()"
      ],
      "metadata": {
        "colab": {
          "base_uri": "https://localhost:8080/"
        },
        "id": "5IZUpuiF1O6V",
        "outputId": "5c64a24c-bbeb-4a4d-ff54-34cf89337476"
      },
      "execution_count": 21,
      "outputs": [
        {
          "output_type": "stream",
          "name": "stdout",
          "text": [
            "Model: \"sequential\"\n",
            "_________________________________________________________________\n",
            " Layer (type)                Output Shape              Param #   \n",
            "=================================================================\n",
            " conv2d (Conv2D)             (None, 126, 126, 32)      896       \n",
            "                                                                 \n",
            " batch_normalization (BatchN  (None, 126, 126, 32)     128       \n",
            " ormalization)                                                   \n",
            "                                                                 \n",
            " max_pooling2d (MaxPooling2D  (None, 63, 63, 32)       0         \n",
            " )                                                               \n",
            "                                                                 \n",
            " dropout (Dropout)           (None, 63, 63, 32)        0         \n",
            "                                                                 \n",
            " conv2d_1 (Conv2D)           (None, 61, 61, 64)        18496     \n",
            "                                                                 \n",
            " batch_normalization_1 (Batc  (None, 61, 61, 64)       256       \n",
            " hNormalization)                                                 \n",
            "                                                                 \n",
            " max_pooling2d_1 (MaxPooling  (None, 30, 30, 64)       0         \n",
            " 2D)                                                             \n",
            "                                                                 \n",
            " dropout_1 (Dropout)         (None, 30, 30, 64)        0         \n",
            "                                                                 \n",
            " conv2d_2 (Conv2D)           (None, 28, 28, 128)       73856     \n",
            "                                                                 \n",
            " batch_normalization_2 (Batc  (None, 28, 28, 128)      512       \n",
            " hNormalization)                                                 \n",
            "                                                                 \n",
            " max_pooling2d_2 (MaxPooling  (None, 14, 14, 128)      0         \n",
            " 2D)                                                             \n",
            "                                                                 \n",
            " dropout_2 (Dropout)         (None, 14, 14, 128)       0         \n",
            "                                                                 \n",
            " flatten (Flatten)           (None, 25088)             0         \n",
            "                                                                 \n",
            " dense (Dense)               (None, 1024)              25691136  \n",
            "                                                                 \n",
            " batch_normalization_3 (Batc  (None, 1024)             4096      \n",
            " hNormalization)                                                 \n",
            "                                                                 \n",
            " dropout_3 (Dropout)         (None, 1024)              0         \n",
            "                                                                 \n",
            " dense_1 (Dense)             (None, 512)               524800    \n",
            "                                                                 \n",
            " batch_normalization_4 (Batc  (None, 512)              2048      \n",
            " hNormalization)                                                 \n",
            "                                                                 \n",
            " dropout_4 (Dropout)         (None, 512)               0         \n",
            "                                                                 \n",
            " dense_2 (Dense)             (None, 2)                 1026      \n",
            "                                                                 \n",
            "=================================================================\n",
            "Total params: 26,317,250\n",
            "Trainable params: 26,313,730\n",
            "Non-trainable params: 3,520\n",
            "_________________________________________________________________\n"
          ]
        }
      ]
    },
    {
      "cell_type": "code",
      "execution_count": 22,
      "metadata": {
        "id": "sdXS1R0FSER6"
      },
      "outputs": [],
      "source": [
        "#data generator and loader function\n",
        "def data_generator(df, data_path, set_type, image_size, batch_size, xy = ['filename', 'class_id']):\n",
        "\n",
        "  x_col, y_col = xy\n",
        "\n",
        "  if set_type in ['val', 'test']:\n",
        "    datagen = ImageDataGenerator(rescale=1./255)\n",
        "\n",
        "  \n",
        "  elif set_type == 'train':\n",
        "    datagen = ImageDataGenerator(rotation_range=15,\n",
        "                                rescale=1./255,\n",
        "                                shear_range=0.1,\n",
        "                                zoom_range=0.2,\n",
        "                                horizontal_flip=True,\n",
        "                                width_shift_range=0.1,\n",
        "                                height_shift_range=0.1\n",
        "                                )\n",
        "\n",
        "  else:\n",
        "    print('Incorret specification for set_type argument: acceptable arguments are one of [train, test, val]')\n",
        "    pass\n",
        "  generator = datagen.flow_from_dataframe(df,\n",
        "                                          data_path,\n",
        "                                          x_col='filename',\n",
        "                                          y_col='class_id',\n",
        "                                          target_size=image_size,\n",
        "                                          class_mode='categorical',\n",
        "                                          batch_size=batch_size\n",
        "                                          )\n",
        "  return generator"
      ]
    },
    {
      "cell_type": "code",
      "execution_count": 23,
      "metadata": {
        "id": "43Le08qwb5HU"
      },
      "outputs": [],
      "source": [
        "#training function\n",
        "def train_model(model, fit_generator_params, loss='categorical_crossentropy', optimizer='rmsprop', metrics = ['accuracy'], cp_dir = 'model/'):\n",
        "  #define callbacks, learning rate, checkpoints\n",
        "  patience = fit_generator_params['epochs']//10\n",
        "  earlystop = EarlyStopping(patience = patience)\n",
        "  learning_rate_reduction = ReduceLROnPlateau(monitor = 'val_accuracy',patience = 2,verbose = 1,factor = 0.5,min_lr = 0.00001)\n",
        "  checkpoint_path = cp_dir + 'cnn' + '.{epoch:02d}-{val_loss:.2f}.hdf5'\n",
        "  cp_callback = ModelCheckpoint(filepath=checkpoint_path,\n",
        "                                save_weights_only=False,\n",
        "                                save_best_only = True,\n",
        "                                #save_freq=3*batch_size,\n",
        "                                verbose=1)\n",
        "  os.makedirs(cp_dir, exist_ok = True)\n",
        "  callbacks = [earlystop,learning_rate_reduction, cp_callback]\n",
        "  model.compile(loss=loss,\n",
        "                  optimizer=optimizer,metrics=metrics)\n",
        "  history = model.fit(\n",
        "    fit_generator_params['data'], \n",
        "    epochs=fit_generator_params['epochs'],\n",
        "    validation_data=fit_generator_params['validation_data'],\n",
        "    validation_steps=len(val_df)//fit_generator_params['batch_size'],\n",
        "    steps_per_epoch=len(train_df)//fit_generator_params['batch_size'],\n",
        "    callbacks=callbacks\n",
        "    ) \n",
        "  return history"
      ]
    },
    {
      "cell_type": "markdown",
      "metadata": {
        "id": "jzPc0lEJcbVd"
      },
      "source": [
        "###Secondary Functions"
      ]
    },
    {
      "cell_type": "code",
      "execution_count": 24,
      "metadata": {
        "id": "9lkXhdB2bgFh"
      },
      "outputs": [],
      "source": [
        "#secondary functions\n",
        "def get_model_name(architecture):\n",
        "  input_shape, out_channels, conv_layers, fc_layers, dropout = architecture\n",
        "  if dropout:\n",
        "    dropout = '_dropout'\n",
        "  else:\n",
        "    dropout = ''\n",
        "  name = str(conv_layers)+'conv_' + str(fc_layers) + 'fc' + dropout\n",
        "  return name\n",
        "\n",
        "'''\n",
        "def exclude_trained_models(options, models_dir):\n",
        "  architecture_names = [get_model_name(architecture) for architecture in options]\n",
        "  trained_models = [model_name for model_name in os.listdir(models_dir) if os.path.isdir(os.path.join(models_dir,model_name))]\n",
        "  for architecture in options:\n",
        "    name = get_model_name(architecture)\n",
        "    if name in trained_models:\n",
        "      index = architecture_names.index(name)\n",
        "      options.pop(index)\n",
        "  return options\n",
        "'''\n",
        "def exclude_trained_models(options, models_dir):\n",
        "  architecture_names = [get_model_name(architecture) for architecture in options]\n",
        "  trained_models = [model_name for model_name in os.listdir(model_dir) if os.path.isdir(os.path.join(model_dir,model_name))]\n",
        "  new_models = list(set(architecture_names)-set(trained_models))\n",
        "  indexes = [architecture_names.index(model) for model in new_models]\n",
        "  options = [options[index] for index in indexes]\n",
        "  return options\n",
        "\n",
        "\n",
        "def save_plot_results(history, model_name, save_dir):\n",
        "  os.makedirs(save_dir, exist_ok=True)\n",
        "  #plot accuracy\n",
        "  accuracy_plot = save_dir + 'acc_'+ model_name\n",
        "  plt.plot(history.history['accuracy'])\n",
        "  plt.plot(history.history['val_accuracy'])\n",
        "  plt.title('model accuracy')\n",
        "  plt.ylabel('accuracy')\n",
        "  plt.xlabel('epoch')\n",
        "  plt.legend(['train', 'val'], loc='upper left')\n",
        "  plt.savefig(accuracy_plot, bbox_inches='tight')\n",
        "  plt.close()\n",
        "  #plot loss\n",
        "  loss_plot = save_dir + 'loss_' + model_name\n",
        "  plt.plot(history.history['loss'])\n",
        "  plt.plot(history.history['val_loss'])\n",
        "  plt.title('model loss')\n",
        "  plt.ylabel('loss')\n",
        "  plt.xlabel('epoch')\n",
        "  plt.legend(['train', 'val'], loc='upper left')\n",
        "  plt.savefig(loss_plot, bbox_inches='tight')\n",
        "  plt.close()"
      ]
    },
    {
      "cell_type": "markdown",
      "metadata": {
        "id": "AZcv5p7Zc8D5"
      },
      "source": [
        "##**Training**\n"
      ]
    },
    {
      "cell_type": "markdown",
      "metadata": {
        "id": "xQ6azlaceInL"
      },
      "source": [
        "###Params"
      ]
    },
    {
      "cell_type": "code",
      "execution_count": 25,
      "metadata": {
        "colab": {
          "base_uri": "https://localhost:8080/"
        },
        "id": "vH3v0bYP4O_I",
        "outputId": "63593954-cb77-4788-d554-6216e9bfa6bf"
      },
      "outputs": [
        {
          "output_type": "stream",
          "name": "stdout",
          "text": [
            "Found 16854 validated image filenames belonging to 2 classes.\n",
            "Found 4214 validated image filenames belonging to 2 classes.\n",
            "Found 2341 validated image filenames belonging to 2 classes.\n"
          ]
        }
      ],
      "source": [
        "#input params\n",
        "BATCH_SIZE = 15\n",
        "EPOCHS=30\n",
        "#build data generators\n",
        "train_generator = data_generator(df=train_df, data_path=train_path, set_type = 'train',image_size=IMAGE_SIZE, batch_size=BATCH_SIZE)\n",
        "val_generator = data_generator(df=val_df, data_path=val_path, set_type = 'val',image_size=IMAGE_SIZE, batch_size=BATCH_SIZE)\n",
        "test_generator = data_generator(df=test_df, data_path=test_path, set_type = 'test',image_size=IMAGE_SIZE, batch_size=BATCH_SIZE)\n",
        "\n",
        "fit_generator_params = {}\n",
        "fit_generator_params['data'] = train_generator\n",
        "fit_generator_params['validation_data'] = val_generator\n",
        "fit_generator_params['epochs'] = EPOCHS\n",
        "fit_generator_params['batch_size'] = BATCH_SIZE\n",
        "fit_generator_params['validation_steps'] = len(val_df)//BATCH_SIZE\n",
        "fit_generator_params['steps_per_epoch'] = len(train_df)//BATCH_SIZE"
      ]
    },
    {
      "cell_type": "markdown",
      "metadata": {
        "id": "6EUfwee-eL7N"
      },
      "source": [
        "###Main"
      ]
    },
    {
      "cell_type": "code",
      "execution_count": 26,
      "metadata": {
        "id": "1K95gFDK4LFV"
      },
      "outputs": [],
      "source": [
        "#define grid of parameters for model\n",
        "input_shape = [IMAGE_SHAPE]\n",
        "out_channels = [32]\n",
        "conv_layers = [1,2,3,4]\n",
        "fc_layers = [1,2,3,4]\n",
        "dropout = [True, False]\n",
        "grid = [input_shape, out_channels, conv_layers, fc_layers, dropout]\n",
        "options = list(itertools.product(*grid))\n",
        "all_options = [comb for comb in options if comb[2] >= comb[3]]\n",
        "#update model dirs\n",
        "delta_options = exclude_trained_models(all_options, model_dir)"
      ]
    },
    {
      "cell_type": "code",
      "execution_count": 27,
      "metadata": {
        "colab": {
          "base_uri": "https://localhost:8080/"
        },
        "id": "bOPxMokrzRye",
        "outputId": "6f1cdb51-64ab-478e-aa30-6f9132d1906b"
      },
      "outputs": [
        {
          "output_type": "execute_result",
          "data": {
            "text/plain": [
              "[((128, 128, 3), 32, 4, 3, False)]"
            ]
          },
          "metadata": {},
          "execution_count": 27
        }
      ],
      "source": [
        "delta_options"
      ]
    },
    {
      "cell_type": "code",
      "execution_count": 28,
      "metadata": {
        "colab": {
          "base_uri": "https://localhost:8080/"
        },
        "id": "-GXdTuG6Yr6h",
        "outputId": "58dba248-da14-49e8-ed4a-b6e9b3c2c999"
      },
      "outputs": [
        {
          "output_type": "stream",
          "name": "stdout",
          "text": [
            "Training starting for model 4conv_3fc\n",
            "Epoch 1/30\n",
            "1123/1123 [==============================] - ETA: 0s - loss: 0.7200 - accuracy: 0.6170\n",
            "Epoch 1: val_loss improved from inf to 0.66996, saving model to /content/drive/MyDrive/ML_Project/model/4conv_3fc/cnn.01-0.67.hdf5\n",
            "1123/1123 [==============================] - 147s 120ms/step - loss: 0.7200 - accuracy: 0.6170 - val_loss: 0.6700 - val_accuracy: 0.6486 - lr: 0.0010\n",
            "Epoch 2/30\n",
            "1123/1123 [==============================] - ETA: 0s - loss: 0.5598 - accuracy: 0.7233\n",
            "Epoch 2: val_loss improved from 0.66996 to 0.57901, saving model to /content/drive/MyDrive/ML_Project/model/4conv_3fc/cnn.02-0.58.hdf5\n",
            "1123/1123 [==============================] - 124s 111ms/step - loss: 0.5598 - accuracy: 0.7233 - val_loss: 0.5790 - val_accuracy: 0.7164 - lr: 0.0010\n",
            "Epoch 3/30\n",
            "1123/1123 [==============================] - ETA: 0s - loss: 0.4833 - accuracy: 0.7701\n",
            "Epoch 3: val_loss improved from 0.57901 to 0.45100, saving model to /content/drive/MyDrive/ML_Project/model/4conv_3fc/cnn.03-0.45.hdf5\n",
            "1123/1123 [==============================] - 124s 110ms/step - loss: 0.4833 - accuracy: 0.7701 - val_loss: 0.4510 - val_accuracy: 0.7950 - lr: 0.0010\n",
            "Epoch 4/30\n",
            "1123/1123 [==============================] - ETA: 0s - loss: 0.4187 - accuracy: 0.8149\n",
            "Epoch 4: val_loss did not improve from 0.45100\n",
            "1123/1123 [==============================] - 123s 110ms/step - loss: 0.4187 - accuracy: 0.8149 - val_loss: 0.4862 - val_accuracy: 0.7819 - lr: 0.0010\n",
            "Epoch 5/30\n",
            "1123/1123 [==============================] - ETA: 0s - loss: 0.3751 - accuracy: 0.8332\n",
            "Epoch 5: val_loss improved from 0.45100 to 0.39819, saving model to /content/drive/MyDrive/ML_Project/model/4conv_3fc/cnn.05-0.40.hdf5\n",
            "1123/1123 [==============================] - 124s 111ms/step - loss: 0.3751 - accuracy: 0.8332 - val_loss: 0.3982 - val_accuracy: 0.8255 - lr: 0.0010\n",
            "Epoch 6/30\n",
            "1123/1123 [==============================] - ETA: 0s - loss: 0.3359 - accuracy: 0.8576\n",
            "Epoch 6: val_loss improved from 0.39819 to 0.31908, saving model to /content/drive/MyDrive/ML_Project/model/4conv_3fc/cnn.06-0.32.hdf5\n",
            "1123/1123 [==============================] - 127s 113ms/step - loss: 0.3359 - accuracy: 0.8576 - val_loss: 0.3191 - val_accuracy: 0.8636 - lr: 0.0010\n",
            "Epoch 7/30\n",
            "1123/1123 [==============================] - ETA: 0s - loss: 0.3101 - accuracy: 0.8705\n",
            "Epoch 7: val_loss did not improve from 0.31908\n",
            "1123/1123 [==============================] - 123s 110ms/step - loss: 0.3101 - accuracy: 0.8705 - val_loss: 0.3808 - val_accuracy: 0.8233 - lr: 0.0010\n",
            "Epoch 8/30\n",
            "1123/1123 [==============================] - ETA: 0s - loss: 0.2942 - accuracy: 0.8768\n",
            "Epoch 8: ReduceLROnPlateau reducing learning rate to 0.0005000000237487257.\n",
            "\n",
            "Epoch 8: val_loss improved from 0.31908 to 0.31792, saving model to /content/drive/MyDrive/ML_Project/model/4conv_3fc/cnn.08-0.32.hdf5\n",
            "1123/1123 [==============================] - 123s 110ms/step - loss: 0.2942 - accuracy: 0.8768 - val_loss: 0.3179 - val_accuracy: 0.8543 - lr: 0.0010\n",
            "Epoch 9/30\n",
            "1123/1123 [==============================] - ETA: 0s - loss: 0.2518 - accuracy: 0.8963\n",
            "Epoch 9: val_loss improved from 0.31792 to 0.20514, saving model to /content/drive/MyDrive/ML_Project/model/4conv_3fc/cnn.09-0.21.hdf5\n",
            "1123/1123 [==============================] - 121s 108ms/step - loss: 0.2518 - accuracy: 0.8963 - val_loss: 0.2051 - val_accuracy: 0.9200 - lr: 5.0000e-04\n",
            "Epoch 10/30\n",
            "1123/1123 [==============================] - ETA: 0s - loss: 0.2321 - accuracy: 0.9043\n",
            "Epoch 10: val_loss did not improve from 0.20514\n",
            "1123/1123 [==============================] - 120s 107ms/step - loss: 0.2321 - accuracy: 0.9043 - val_loss: 0.2286 - val_accuracy: 0.9131 - lr: 5.0000e-04\n",
            "Epoch 11/30\n",
            "1123/1123 [==============================] - ETA: 0s - loss: 0.2321 - accuracy: 0.9055\n",
            "Epoch 11: ReduceLROnPlateau reducing learning rate to 0.0002500000118743628.\n",
            "\n",
            "Epoch 11: val_loss did not improve from 0.20514\n",
            "1123/1123 [==============================] - 120s 107ms/step - loss: 0.2321 - accuracy: 0.9055 - val_loss: 0.2416 - val_accuracy: 0.9026 - lr: 5.0000e-04\n",
            "Epoch 12/30\n",
            "1123/1123 [==============================] - ETA: 0s - loss: 0.2082 - accuracy: 0.9199\n",
            "Epoch 12: val_loss improved from 0.20514 to 0.19485, saving model to /content/drive/MyDrive/ML_Project/model/4conv_3fc/cnn.12-0.19.hdf5\n",
            "1123/1123 [==============================] - 119s 106ms/step - loss: 0.2082 - accuracy: 0.9199 - val_loss: 0.1948 - val_accuracy: 0.9243 - lr: 2.5000e-04\n",
            "Epoch 13/30\n",
            "1123/1123 [==============================] - ETA: 0s - loss: 0.1930 - accuracy: 0.9256\n",
            "Epoch 13: val_loss improved from 0.19485 to 0.16584, saving model to /content/drive/MyDrive/ML_Project/model/4conv_3fc/cnn.13-0.17.hdf5\n",
            "1123/1123 [==============================] - 118s 105ms/step - loss: 0.1930 - accuracy: 0.9256 - val_loss: 0.1658 - val_accuracy: 0.9336 - lr: 2.5000e-04\n",
            "Epoch 14/30\n",
            "1123/1123 [==============================] - ETA: 0s - loss: 0.1906 - accuracy: 0.9242\n",
            "Epoch 14: val_loss improved from 0.16584 to 0.15850, saving model to /content/drive/MyDrive/ML_Project/model/4conv_3fc/cnn.14-0.16.hdf5\n",
            "1123/1123 [==============================] - 119s 106ms/step - loss: 0.1906 - accuracy: 0.9242 - val_loss: 0.1585 - val_accuracy: 0.9395 - lr: 2.5000e-04\n",
            "Epoch 15/30\n",
            "1123/1123 [==============================] - ETA: 0s - loss: 0.1859 - accuracy: 0.9294\n",
            "Epoch 15: val_loss did not improve from 0.15850\n",
            "1123/1123 [==============================] - 126s 112ms/step - loss: 0.1859 - accuracy: 0.9294 - val_loss: 0.1710 - val_accuracy: 0.9321 - lr: 2.5000e-04\n",
            "Epoch 16/30\n",
            "1123/1123 [==============================] - ETA: 0s - loss: 0.1910 - accuracy: 0.9258\n",
            "Epoch 16: val_loss did not improve from 0.15850\n",
            "1123/1123 [==============================] - 117s 104ms/step - loss: 0.1910 - accuracy: 0.9258 - val_loss: 0.1595 - val_accuracy: 0.9398 - lr: 2.5000e-04\n",
            "Epoch 17/30\n",
            "1123/1123 [==============================] - ETA: 0s - loss: 0.1809 - accuracy: 0.9334\n",
            "Epoch 17: val_loss did not improve from 0.15850\n",
            "1123/1123 [==============================] - 118s 105ms/step - loss: 0.1809 - accuracy: 0.9334 - val_loss: 0.1985 - val_accuracy: 0.9267 - lr: 2.5000e-04\n",
            "Training completed for model -4conv_3fc-. Weights saved at /content/drive/MyDrive/ML_Project/model/4conv_3fc/\n"
          ]
        }
      ],
      "source": [
        "#train models\n",
        "for architecture in delta_options:\n",
        "  name = get_model_name(architecture)\n",
        "  model = CnnModel(architecture)\n",
        "  cp_dir = model_dir + name +'/'\n",
        "  print(f'Training starting for model {name}')\n",
        "  history = train_model(model, fit_generator_params, cp_dir = cp_dir)\n",
        "  save_plot_results(history, name, plots_dir)\n",
        "  print(f'Training completed for model -{name}-. Weights saved at {cp_dir}')"
      ]
    },
    {
      "cell_type": "markdown",
      "metadata": {
        "id": "JeKB4n7wH4Dl"
      },
      "source": [
        "##**Prediction**"
      ]
    },
    {
      "cell_type": "code",
      "execution_count": 29,
      "metadata": {
        "id": "EPSlB8ho6gdt"
      },
      "outputs": [],
      "source": [
        "def retrieve_best_model(cp_path):\n",
        "  if os.path.isdir(cp_path):\n",
        "    model_cp = os.listdir(cp_path)\n",
        "    val_loss = [float('.'.join(name.split('-')[-1].split('.')[:2])) for name in model_cp]\n",
        "    index = val_loss.index(min(val_loss))\n",
        "    best_model = os.path.join(cp_path, model_cp[index])\n",
        "  else: \n",
        "    best_model = None\n",
        "  return best_model "
      ]
    },
    {
      "cell_type": "code",
      "source": [
        "architecture_col = []\n",
        "loss_col = []\n",
        "accuracy_col = []\n",
        "model_names = sorted(os.listdir(model_dir))\n",
        "for name in model_names:\n",
        "  cp_path = os.path.join(model_dir, name)\n",
        "  best_model = retrieve_best_model(cp_path)\n",
        "  if best_model:\n",
        "    model =  load_model(best_model)\n",
        "    loss, accuracy = model.evaluate(test_generator, verbose=0)\n",
        "    architecture_col.append(name)\n",
        "    loss_col.append(loss)\n",
        "    accuracy_col.append(accuracy)"
      ],
      "metadata": {
        "id": "JOAtNxHlW05p"
      },
      "execution_count": 30,
      "outputs": []
    },
    {
      "cell_type": "code",
      "source": [
        "df = pd.DataFrame(list(zip(architecture_col, accuracy_col, loss_col)),\n",
        "               columns =['Architecture', 'Accuracy', 'Loss'])\n",
        "df.head(20)"
      ],
      "metadata": {
        "colab": {
          "base_uri": "https://localhost:8080/",
          "height": 677
        },
        "id": "UnrX3lyhZE1M",
        "outputId": "cd432ef4-cdc3-414a-c1a1-a1b225490e44"
      },
      "execution_count": 31,
      "outputs": [
        {
          "output_type": "execute_result",
          "data": {
            "text/plain": [
              "         Architecture  Accuracy      Loss\n",
              "0           1conv_1fc  0.650150  0.627960\n",
              "1   1conv_1fc_dropout  0.616403  0.641317\n",
              "2           2conv_1fc  0.673644  0.627020\n",
              "3   2conv_1fc_dropout  0.753097  0.522974\n",
              "4           2conv_2fc  0.891072  0.283915\n",
              "5   2conv_2fc_dropout  0.879539  0.304324\n",
              "6           3conv_1fc  0.920974  0.208715\n",
              "7   3conv_1fc_dropout  0.738146  0.531472\n",
              "8           3conv_2fc  0.924818  0.202043\n",
              "9   3conv_2fc_dropout  0.864161  0.332816\n",
              "10          3conv_3fc  0.949167  0.145530\n",
              "11  3conv_3fc_dropout  0.665955  0.622628\n",
              "12          4conv_1fc  0.933362  0.179583\n",
              "13  4conv_1fc_dropout  0.891927  0.262291\n",
              "14          4conv_2fc  0.965827  0.090090\n",
              "15  4conv_2fc_dropout  0.946177  0.149917\n",
              "16          4conv_3fc  0.942760  0.151470\n",
              "17  4conv_3fc_dropout  0.916702  0.200192\n",
              "18          4conv_4fc  0.918411  0.187463\n",
              "19  4conv_4fc_dropout  0.650577  0.634165"
            ],
            "text/html": [
              "\n",
              "  <div id=\"df-22cfd0c6-e00a-4ed9-873d-249c8bfbb0af\">\n",
              "    <div class=\"colab-df-container\">\n",
              "      <div>\n",
              "<style scoped>\n",
              "    .dataframe tbody tr th:only-of-type {\n",
              "        vertical-align: middle;\n",
              "    }\n",
              "\n",
              "    .dataframe tbody tr th {\n",
              "        vertical-align: top;\n",
              "    }\n",
              "\n",
              "    .dataframe thead th {\n",
              "        text-align: right;\n",
              "    }\n",
              "</style>\n",
              "<table border=\"1\" class=\"dataframe\">\n",
              "  <thead>\n",
              "    <tr style=\"text-align: right;\">\n",
              "      <th></th>\n",
              "      <th>Architecture</th>\n",
              "      <th>Accuracy</th>\n",
              "      <th>Loss</th>\n",
              "    </tr>\n",
              "  </thead>\n",
              "  <tbody>\n",
              "    <tr>\n",
              "      <th>0</th>\n",
              "      <td>1conv_1fc</td>\n",
              "      <td>0.650150</td>\n",
              "      <td>0.627960</td>\n",
              "    </tr>\n",
              "    <tr>\n",
              "      <th>1</th>\n",
              "      <td>1conv_1fc_dropout</td>\n",
              "      <td>0.616403</td>\n",
              "      <td>0.641317</td>\n",
              "    </tr>\n",
              "    <tr>\n",
              "      <th>2</th>\n",
              "      <td>2conv_1fc</td>\n",
              "      <td>0.673644</td>\n",
              "      <td>0.627020</td>\n",
              "    </tr>\n",
              "    <tr>\n",
              "      <th>3</th>\n",
              "      <td>2conv_1fc_dropout</td>\n",
              "      <td>0.753097</td>\n",
              "      <td>0.522974</td>\n",
              "    </tr>\n",
              "    <tr>\n",
              "      <th>4</th>\n",
              "      <td>2conv_2fc</td>\n",
              "      <td>0.891072</td>\n",
              "      <td>0.283915</td>\n",
              "    </tr>\n",
              "    <tr>\n",
              "      <th>5</th>\n",
              "      <td>2conv_2fc_dropout</td>\n",
              "      <td>0.879539</td>\n",
              "      <td>0.304324</td>\n",
              "    </tr>\n",
              "    <tr>\n",
              "      <th>6</th>\n",
              "      <td>3conv_1fc</td>\n",
              "      <td>0.920974</td>\n",
              "      <td>0.208715</td>\n",
              "    </tr>\n",
              "    <tr>\n",
              "      <th>7</th>\n",
              "      <td>3conv_1fc_dropout</td>\n",
              "      <td>0.738146</td>\n",
              "      <td>0.531472</td>\n",
              "    </tr>\n",
              "    <tr>\n",
              "      <th>8</th>\n",
              "      <td>3conv_2fc</td>\n",
              "      <td>0.924818</td>\n",
              "      <td>0.202043</td>\n",
              "    </tr>\n",
              "    <tr>\n",
              "      <th>9</th>\n",
              "      <td>3conv_2fc_dropout</td>\n",
              "      <td>0.864161</td>\n",
              "      <td>0.332816</td>\n",
              "    </tr>\n",
              "    <tr>\n",
              "      <th>10</th>\n",
              "      <td>3conv_3fc</td>\n",
              "      <td>0.949167</td>\n",
              "      <td>0.145530</td>\n",
              "    </tr>\n",
              "    <tr>\n",
              "      <th>11</th>\n",
              "      <td>3conv_3fc_dropout</td>\n",
              "      <td>0.665955</td>\n",
              "      <td>0.622628</td>\n",
              "    </tr>\n",
              "    <tr>\n",
              "      <th>12</th>\n",
              "      <td>4conv_1fc</td>\n",
              "      <td>0.933362</td>\n",
              "      <td>0.179583</td>\n",
              "    </tr>\n",
              "    <tr>\n",
              "      <th>13</th>\n",
              "      <td>4conv_1fc_dropout</td>\n",
              "      <td>0.891927</td>\n",
              "      <td>0.262291</td>\n",
              "    </tr>\n",
              "    <tr>\n",
              "      <th>14</th>\n",
              "      <td>4conv_2fc</td>\n",
              "      <td>0.965827</td>\n",
              "      <td>0.090090</td>\n",
              "    </tr>\n",
              "    <tr>\n",
              "      <th>15</th>\n",
              "      <td>4conv_2fc_dropout</td>\n",
              "      <td>0.946177</td>\n",
              "      <td>0.149917</td>\n",
              "    </tr>\n",
              "    <tr>\n",
              "      <th>16</th>\n",
              "      <td>4conv_3fc</td>\n",
              "      <td>0.942760</td>\n",
              "      <td>0.151470</td>\n",
              "    </tr>\n",
              "    <tr>\n",
              "      <th>17</th>\n",
              "      <td>4conv_3fc_dropout</td>\n",
              "      <td>0.916702</td>\n",
              "      <td>0.200192</td>\n",
              "    </tr>\n",
              "    <tr>\n",
              "      <th>18</th>\n",
              "      <td>4conv_4fc</td>\n",
              "      <td>0.918411</td>\n",
              "      <td>0.187463</td>\n",
              "    </tr>\n",
              "    <tr>\n",
              "      <th>19</th>\n",
              "      <td>4conv_4fc_dropout</td>\n",
              "      <td>0.650577</td>\n",
              "      <td>0.634165</td>\n",
              "    </tr>\n",
              "  </tbody>\n",
              "</table>\n",
              "</div>\n",
              "      <button class=\"colab-df-convert\" onclick=\"convertToInteractive('df-22cfd0c6-e00a-4ed9-873d-249c8bfbb0af')\"\n",
              "              title=\"Convert this dataframe to an interactive table.\"\n",
              "              style=\"display:none;\">\n",
              "        \n",
              "  <svg xmlns=\"http://www.w3.org/2000/svg\" height=\"24px\"viewBox=\"0 0 24 24\"\n",
              "       width=\"24px\">\n",
              "    <path d=\"M0 0h24v24H0V0z\" fill=\"none\"/>\n",
              "    <path d=\"M18.56 5.44l.94 2.06.94-2.06 2.06-.94-2.06-.94-.94-2.06-.94 2.06-2.06.94zm-11 1L8.5 8.5l.94-2.06 2.06-.94-2.06-.94L8.5 2.5l-.94 2.06-2.06.94zm10 10l.94 2.06.94-2.06 2.06-.94-2.06-.94-.94-2.06-.94 2.06-2.06.94z\"/><path d=\"M17.41 7.96l-1.37-1.37c-.4-.4-.92-.59-1.43-.59-.52 0-1.04.2-1.43.59L10.3 9.45l-7.72 7.72c-.78.78-.78 2.05 0 2.83L4 21.41c.39.39.9.59 1.41.59.51 0 1.02-.2 1.41-.59l7.78-7.78 2.81-2.81c.8-.78.8-2.07 0-2.86zM5.41 20L4 18.59l7.72-7.72 1.47 1.35L5.41 20z\"/>\n",
              "  </svg>\n",
              "      </button>\n",
              "      \n",
              "  <style>\n",
              "    .colab-df-container {\n",
              "      display:flex;\n",
              "      flex-wrap:wrap;\n",
              "      gap: 12px;\n",
              "    }\n",
              "\n",
              "    .colab-df-convert {\n",
              "      background-color: #E8F0FE;\n",
              "      border: none;\n",
              "      border-radius: 50%;\n",
              "      cursor: pointer;\n",
              "      display: none;\n",
              "      fill: #1967D2;\n",
              "      height: 32px;\n",
              "      padding: 0 0 0 0;\n",
              "      width: 32px;\n",
              "    }\n",
              "\n",
              "    .colab-df-convert:hover {\n",
              "      background-color: #E2EBFA;\n",
              "      box-shadow: 0px 1px 2px rgba(60, 64, 67, 0.3), 0px 1px 3px 1px rgba(60, 64, 67, 0.15);\n",
              "      fill: #174EA6;\n",
              "    }\n",
              "\n",
              "    [theme=dark] .colab-df-convert {\n",
              "      background-color: #3B4455;\n",
              "      fill: #D2E3FC;\n",
              "    }\n",
              "\n",
              "    [theme=dark] .colab-df-convert:hover {\n",
              "      background-color: #434B5C;\n",
              "      box-shadow: 0px 1px 3px 1px rgba(0, 0, 0, 0.15);\n",
              "      filter: drop-shadow(0px 1px 2px rgba(0, 0, 0, 0.3));\n",
              "      fill: #FFFFFF;\n",
              "    }\n",
              "  </style>\n",
              "\n",
              "      <script>\n",
              "        const buttonEl =\n",
              "          document.querySelector('#df-22cfd0c6-e00a-4ed9-873d-249c8bfbb0af button.colab-df-convert');\n",
              "        buttonEl.style.display =\n",
              "          google.colab.kernel.accessAllowed ? 'block' : 'none';\n",
              "\n",
              "        async function convertToInteractive(key) {\n",
              "          const element = document.querySelector('#df-22cfd0c6-e00a-4ed9-873d-249c8bfbb0af');\n",
              "          const dataTable =\n",
              "            await google.colab.kernel.invokeFunction('convertToInteractive',\n",
              "                                                     [key], {});\n",
              "          if (!dataTable) return;\n",
              "\n",
              "          const docLinkHtml = 'Like what you see? Visit the ' +\n",
              "            '<a target=\"_blank\" href=https://colab.research.google.com/notebooks/data_table.ipynb>data table notebook</a>'\n",
              "            + ' to learn more about interactive tables.';\n",
              "          element.innerHTML = '';\n",
              "          dataTable['output_type'] = 'display_data';\n",
              "          await google.colab.output.renderOutput(dataTable, element);\n",
              "          const docLink = document.createElement('div');\n",
              "          docLink.innerHTML = docLinkHtml;\n",
              "          element.appendChild(docLink);\n",
              "        }\n",
              "      </script>\n",
              "    </div>\n",
              "  </div>\n",
              "  "
            ]
          },
          "metadata": {},
          "execution_count": 31
        }
      ]
    },
    {
      "cell_type": "code",
      "source": [
        "def zero_one_loss(df):\n",
        "  '''\n",
        "  Input: pandas df with True Class column and Predict Class column\n",
        "  '''\n",
        "  #cast columns\n",
        "  df['pred_class_id'] = df['pred_class_id'].astype('int')\n",
        "  test_df['class_id'] = df['class_id'].astype('int')\n",
        "  #compute loss\n",
        "  n = len(df)\n",
        "  loss_value = np.where(test_df['class_id'] != test_df['pred_class_id'], 1, 0)\n",
        "  loss = sum(loss_value)/n\n",
        "  #loss = sum(np.where(test_df['class_id'] != test_df['pred_class_id'], 1, 0))/n\n",
        "  accuracy = 1-loss\n",
        "  return loss, accuracy"
      ],
      "metadata": {
        "id": "XSPoe098SbS3"
      },
      "execution_count": null,
      "outputs": []
    },
    {
      "cell_type": "code",
      "execution_count": null,
      "metadata": {
        "id": "8hk0Uns57ck7",
        "colab": {
          "base_uri": "https://localhost:8080/"
        },
        "outputId": "74a295ba-ab3b-4307-cf99-9ae7d1272110"
      },
      "outputs": [
        {
          "output_type": "stream",
          "name": "stdout",
          "text": [
            "167/167 [==============================] - 25s 151ms/step\n",
            "167/167 [==============================] - 25s 150ms/step\n",
            "167/167 [==============================] - 33s 195ms/step\n",
            "167/167 [==============================] - 31s 185ms/step\n",
            "167/167 [==============================] - 38s 227ms/step\n",
            "167/167 [==============================] - 36s 212ms/step\n",
            "167/167 [==============================] - 36s 214ms/step\n",
            "167/167 [==============================] - 42s 251ms/step\n",
            "167/167 [==============================] - 44s 261ms/step\n",
            "167/167 [==============================] - 38s 227ms/step\n",
            "167/167 [==============================] - 36s 215ms/step\n",
            "167/167 [==============================] - 39s 235ms/step\n",
            "167/167 [==============================] - 41s 241ms/step\n",
            "167/167 [==============================] - 39s 235ms/step\n",
            "167/167 [==============================] - 42s 249ms/step\n",
            "167/167 [==============================] - 42s 251ms/step\n",
            "167/167 [==============================] - 47s 278ms/step\n",
            "167/167 [==============================] - 40s 240ms/step\n"
          ]
        }
      ],
      "source": [
        "model_performances = {}\n",
        "for cp in os.listdir(model_dir):\n",
        "  cp_path = os.path.join(model_dir, cp)\n",
        "  best_model = retrieve_best_model(cp_path)\n",
        "  if best_model:\n",
        "    model =  load_model(best_model)\n",
        "    model_name = best_model.split('/')[-2]\n",
        "    #predict on test\n",
        "    predict = model.predict(test_generator, steps=np.ceil(nb_samples/BATCH_SIZE))\n",
        "    test_df['pred_class_id'] = np.argmax(predict, axis=-1)\n",
        "    test_df['pred_class_id'] = test_df['pred_class_id'].astype('int')\n",
        "    test_df['class_id'] = test_df['class_id'].astype('int')\n",
        "    #compute loss\n",
        "    loss, accuracy = zero_one_loss(test_df)\n",
        "    performances = {}\n",
        "    performances['loss'] = loss\n",
        "    performances['accuracy'] = accuracy\n",
        "    model_performances[model_name] = performances\n"
      ]
    },
    {
      "cell_type": "code",
      "execution_count": null,
      "metadata": {
        "colab": {
          "base_uri": "https://localhost:8080/"
        },
        "id": "HHmHsiPIvImX",
        "outputId": "c5c65669-7678-4c82-f52e-decb93f33189"
      },
      "outputs": [
        {
          "data": {
            "text/plain": [
              "['/content/drive/MyDrive/ML_Project/model/1conv_1fc/cnn.10-0.62.hdf5',\n",
              " '/content/drive/MyDrive/ML_Project/model/1conv_1fc_dropout/cnn.03-0.64.hdf5',\n",
              " '/content/drive/MyDrive/ML_Project/model/2conv_1fc/cnn.04-0.61.hdf5',\n",
              " '/content/drive/MyDrive/ML_Project/model/2conv_1fc_dropout/cnn.10-0.52.hdf5',\n",
              " '/content/drive/MyDrive/ML_Project/model/2conv_2fc/cnn.13-0.31.hdf5',\n",
              " '/content/drive/MyDrive/ML_Project/model/2conv_2fc_dropout/cnn.11-0.37.hdf5',\n",
              " '/content/drive/MyDrive/ML_Project/model/3conv_1fc/cnn.11-0.31.hdf5',\n",
              " '/content/drive/MyDrive/ML_Project/model/3conv_1fc_dropout/cnn.05-0.52.hdf5',\n",
              " '/content/drive/MyDrive/ML_Project/model/3conv_2fc/cnn.09-0.24.hdf5',\n",
              " '/content/drive/MyDrive/ML_Project/model/3conv_2fc_dropout/cnn.06-0.36.hdf5',\n",
              " '/content/drive/MyDrive/ML_Project/model/3conv_3fc_dropout/cnn.01-0.60.hdf5',\n",
              " '/content/drive/MyDrive/ML_Project/model/4conv_1fc/cnn.07-0.21.hdf5',\n",
              " '/content/drive/MyDrive/ML_Project/model/4conv_1fc_dropout/cnn.11-0.29.hdf5',\n",
              " '/content/drive/MyDrive/ML_Project/model/4conv_2fc_dropout/cnn.12-0.18.hdf5',\n",
              " '/content/drive/MyDrive/ML_Project/model/4conv_3fc_dropout/cnn.09-0.23.hdf5']"
            ]
          },
          "execution_count": 80,
          "metadata": {},
          "output_type": "execute_result"
        }
      ],
      "source": [
        "#collect best model weights from each architecture\n",
        "model_weights = []\n",
        "for dir in os.listdir(model_dir):\n",
        "  dir_path = os.path.join(model_dir, dir)\n",
        "  files = [] \n",
        "  if os.path.isdir(dir_path):\n",
        "    for file in os.listdir(dir_path):\n",
        "      model_path = os.path.join(dir_path , file)\n",
        "      files.append(model_path)\n",
        "    #only append the last (best) model  \n",
        "    model_weights.append(files[-1])\n",
        "model_weights = sorted(model_weights)\n",
        "model_weights"
      ]
    },
    {
      "cell_type": "code",
      "execution_count": null,
      "metadata": {
        "colab": {
          "base_uri": "https://localhost:8080/"
        },
        "id": "RnM5THhhzbem",
        "outputId": "c5ad67ea-c4c5-42fd-bf63-24f9e698ef9f"
      },
      "outputs": [
        {
          "data": {
            "text/plain": [
              "{'1conv_1fc': 0.4928,\n",
              " '1conv_1fc_dropout': 0.5,\n",
              " '2conv_1fc': 0.5028,\n",
              " '2conv_1fc_dropout': 0.5072,\n",
              " '2conv_2fc': 0.4852,\n",
              " '2conv_2fc_dropout': 0.498,\n",
              " '3conv_1fc': 0.5136,\n",
              " '3conv_1fc_dropout': 0.5108,\n",
              " '3conv_2fc': 0.5016,\n",
              " '3conv_2fc_dropout': 0.496,\n",
              " '3conv_3fc_dropout': 0.5048,\n",
              " '4conv_1fc': 0.5024,\n",
              " '4conv_1fc_dropout': 0.4984,\n",
              " '4conv_2fc_dropout': 0.4896,\n",
              " '4conv_3fc_dropout': 0.5028}"
            ]
          },
          "execution_count": 93,
          "metadata": {},
          "output_type": "execute_result"
        }
      ],
      "source": [
        "model_performances"
      ]
    },
    {
      "cell_type": "code",
      "execution_count": null,
      "metadata": {
        "colab": {
          "base_uri": "https://localhost:8080/",
          "height": 206
        },
        "id": "SJ3jD1ogr2AO",
        "outputId": "502c36d6-a7f7-45ed-b18b-19e478d210e3"
      },
      "outputs": [
        {
          "data": {
            "text/html": [
              "\n",
              "  <div id=\"df-9d33a82c-8332-41f2-82c6-63b96c4c0952\">\n",
              "    <div class=\"colab-df-container\">\n",
              "      <div>\n",
              "<style scoped>\n",
              "    .dataframe tbody tr th:only-of-type {\n",
              "        vertical-align: middle;\n",
              "    }\n",
              "\n",
              "    .dataframe tbody tr th {\n",
              "        vertical-align: top;\n",
              "    }\n",
              "\n",
              "    .dataframe thead th {\n",
              "        text-align: right;\n",
              "    }\n",
              "</style>\n",
              "<table border=\"1\" class=\"dataframe\">\n",
              "  <thead>\n",
              "    <tr style=\"text-align: right;\">\n",
              "      <th></th>\n",
              "      <th>filename</th>\n",
              "      <th>class_id</th>\n",
              "      <th>pred_class_id</th>\n",
              "      <th>pred_category</th>\n",
              "      <th>category</th>\n",
              "    </tr>\n",
              "  </thead>\n",
              "  <tbody>\n",
              "    <tr>\n",
              "      <th>0</th>\n",
              "      <td>/content/ML_Project/dataset/CatsDogs/test/1110...</td>\n",
              "      <td>1</td>\n",
              "      <td>0</td>\n",
              "      <td>cat</td>\n",
              "      <td>0</td>\n",
              "    </tr>\n",
              "    <tr>\n",
              "      <th>1</th>\n",
              "      <td>/content/ML_Project/dataset/CatsDogs/test/1377...</td>\n",
              "      <td>1</td>\n",
              "      <td>1</td>\n",
              "      <td>dog</td>\n",
              "      <td>1</td>\n",
              "    </tr>\n",
              "    <tr>\n",
              "      <th>2</th>\n",
              "      <td>/content/ML_Project/dataset/CatsDogs/test/0390...</td>\n",
              "      <td>0</td>\n",
              "      <td>0</td>\n",
              "      <td>cat</td>\n",
              "      <td>0</td>\n",
              "    </tr>\n",
              "    <tr>\n",
              "      <th>3</th>\n",
              "      <td>/content/ML_Project/dataset/CatsDogs/test/1899...</td>\n",
              "      <td>1</td>\n",
              "      <td>1</td>\n",
              "      <td>dog</td>\n",
              "      <td>1</td>\n",
              "    </tr>\n",
              "    <tr>\n",
              "      <th>4</th>\n",
              "      <td>/content/ML_Project/dataset/CatsDogs/test/1113...</td>\n",
              "      <td>1</td>\n",
              "      <td>0</td>\n",
              "      <td>cat</td>\n",
              "      <td>0</td>\n",
              "    </tr>\n",
              "  </tbody>\n",
              "</table>\n",
              "</div>\n",
              "      <button class=\"colab-df-convert\" onclick=\"convertToInteractive('df-9d33a82c-8332-41f2-82c6-63b96c4c0952')\"\n",
              "              title=\"Convert this dataframe to an interactive table.\"\n",
              "              style=\"display:none;\">\n",
              "        \n",
              "  <svg xmlns=\"http://www.w3.org/2000/svg\" height=\"24px\"viewBox=\"0 0 24 24\"\n",
              "       width=\"24px\">\n",
              "    <path d=\"M0 0h24v24H0V0z\" fill=\"none\"/>\n",
              "    <path d=\"M18.56 5.44l.94 2.06.94-2.06 2.06-.94-2.06-.94-.94-2.06-.94 2.06-2.06.94zm-11 1L8.5 8.5l.94-2.06 2.06-.94-2.06-.94L8.5 2.5l-.94 2.06-2.06.94zm10 10l.94 2.06.94-2.06 2.06-.94-2.06-.94-.94-2.06-.94 2.06-2.06.94z\"/><path d=\"M17.41 7.96l-1.37-1.37c-.4-.4-.92-.59-1.43-.59-.52 0-1.04.2-1.43.59L10.3 9.45l-7.72 7.72c-.78.78-.78 2.05 0 2.83L4 21.41c.39.39.9.59 1.41.59.51 0 1.02-.2 1.41-.59l7.78-7.78 2.81-2.81c.8-.78.8-2.07 0-2.86zM5.41 20L4 18.59l7.72-7.72 1.47 1.35L5.41 20z\"/>\n",
              "  </svg>\n",
              "      </button>\n",
              "      \n",
              "  <style>\n",
              "    .colab-df-container {\n",
              "      display:flex;\n",
              "      flex-wrap:wrap;\n",
              "      gap: 12px;\n",
              "    }\n",
              "\n",
              "    .colab-df-convert {\n",
              "      background-color: #E8F0FE;\n",
              "      border: none;\n",
              "      border-radius: 50%;\n",
              "      cursor: pointer;\n",
              "      display: none;\n",
              "      fill: #1967D2;\n",
              "      height: 32px;\n",
              "      padding: 0 0 0 0;\n",
              "      width: 32px;\n",
              "    }\n",
              "\n",
              "    .colab-df-convert:hover {\n",
              "      background-color: #E2EBFA;\n",
              "      box-shadow: 0px 1px 2px rgba(60, 64, 67, 0.3), 0px 1px 3px 1px rgba(60, 64, 67, 0.15);\n",
              "      fill: #174EA6;\n",
              "    }\n",
              "\n",
              "    [theme=dark] .colab-df-convert {\n",
              "      background-color: #3B4455;\n",
              "      fill: #D2E3FC;\n",
              "    }\n",
              "\n",
              "    [theme=dark] .colab-df-convert:hover {\n",
              "      background-color: #434B5C;\n",
              "      box-shadow: 0px 1px 3px 1px rgba(0, 0, 0, 0.15);\n",
              "      filter: drop-shadow(0px 1px 2px rgba(0, 0, 0, 0.3));\n",
              "      fill: #FFFFFF;\n",
              "    }\n",
              "  </style>\n",
              "\n",
              "      <script>\n",
              "        const buttonEl =\n",
              "          document.querySelector('#df-9d33a82c-8332-41f2-82c6-63b96c4c0952 button.colab-df-convert');\n",
              "        buttonEl.style.display =\n",
              "          google.colab.kernel.accessAllowed ? 'block' : 'none';\n",
              "\n",
              "        async function convertToInteractive(key) {\n",
              "          const element = document.querySelector('#df-9d33a82c-8332-41f2-82c6-63b96c4c0952');\n",
              "          const dataTable =\n",
              "            await google.colab.kernel.invokeFunction('convertToInteractive',\n",
              "                                                     [key], {});\n",
              "          if (!dataTable) return;\n",
              "\n",
              "          const docLinkHtml = 'Like what you see? Visit the ' +\n",
              "            '<a target=\"_blank\" href=https://colab.research.google.com/notebooks/data_table.ipynb>data table notebook</a>'\n",
              "            + ' to learn more about interactive tables.';\n",
              "          element.innerHTML = '';\n",
              "          dataTable['output_type'] = 'display_data';\n",
              "          await google.colab.output.renderOutput(dataTable, element);\n",
              "          const docLink = document.createElement('div');\n",
              "          docLink.innerHTML = docLinkHtml;\n",
              "          element.appendChild(docLink);\n",
              "        }\n",
              "      </script>\n",
              "    </div>\n",
              "  </div>\n",
              "  "
            ],
            "text/plain": [
              "                                            filename  class_id  pred_class_id  \\\n",
              "0  /content/ML_Project/dataset/CatsDogs/test/1110...         1              0   \n",
              "1  /content/ML_Project/dataset/CatsDogs/test/1377...         1              1   \n",
              "2  /content/ML_Project/dataset/CatsDogs/test/0390...         0              0   \n",
              "3  /content/ML_Project/dataset/CatsDogs/test/1899...         1              1   \n",
              "4  /content/ML_Project/dataset/CatsDogs/test/1113...         1              0   \n",
              "\n",
              "  pred_category category  \n",
              "0           cat        0  \n",
              "1           dog        1  \n",
              "2           cat        0  \n",
              "3           dog        1  \n",
              "4           cat        0  "
            ]
          },
          "execution_count": 72,
          "metadata": {},
          "output_type": "execute_result"
        }
      ],
      "source": [
        "test_df['pred_class_id'] = np.argmax(predict, axis=-1)\n",
        "test_df['pred_category'] = np.where(test_df['pred_class_id'] == 1, 'dog', 'cat')\n",
        "test_df['pred_class_id'] = test_df['pred_class_id'].astype('int')\n",
        "test_df['class_id'] = test_df['class_id'].astype('int')"
      ]
    }
  ],
  "metadata": {
    "accelerator": "GPU",
    "colab": {
      "provenance": []
    },
    "gpuClass": "standard",
    "kernelspec": {
      "display_name": "Python 3",
      "name": "python3"
    },
    "language_info": {
      "name": "python"
    }
  },
  "nbformat": 4,
  "nbformat_minor": 0
}